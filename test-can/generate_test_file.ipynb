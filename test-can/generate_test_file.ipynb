{
 "cells": [
  {
   "cell_type": "markdown",
   "metadata": {},
   "source": [
    "# This file generates test data for the rocket"
   ]
  },
  {
   "cell_type": "raw",
   "metadata": {},
   "source": [
    "Imports"
   ]
  },
  {
   "cell_type": "code",
   "execution_count": null,
   "metadata": {},
   "outputs": [],
   "source": [
    "import pandas as pd\n",
    "import numpy as np\n",
    "import matplotlib.pyplot as plt\n",
    "import re\n",
    "import random"
   ]
  },
  {
   "cell_type": "markdown",
   "metadata": {},
   "source": [
    "Declarations"
   ]
  },
  {
   "cell_type": "code",
   "execution_count": null,
   "metadata": {},
   "outputs": [],
   "source": [
    "TIME = 0\n",
    "GYRO_X = 1\n",
    "GYRO_Y = 2\n",
    "GYRO_Z = 3\n",
    "ACC_X = 4\n",
    "ACC_Y = 5\n",
    "ACC_Z = 6\n",
    "ALT = 7\n",
    "STATE = 8"
   ]
  },
  {
   "cell_type": "markdown",
   "metadata": {},
   "source": [
    "Main Section"
   ]
  },
  {
   "cell_type": "markdown",
   "metadata": {
    "collapsed": true
   },
   "source": [
    "Development"
   ]
  },
  {
   "cell_type": "code",
   "execution_count": null,
   "metadata": {},
   "outputs": [],
   "source": [
    "columns_ = ['Time', 'Gyro_x', 'Gyro_y', 'Gyro_z', 'Acc_x', 'Acc_y', 'Acc_z', 'Alt', 'State']\n",
    "df_dict = {\n",
    "    'Time': [],\n",
    "    'Gyro_x': [],\n",
    "    'Gyro_y': [], \n",
    "    'Gyro_z': [], \n",
    "    'Acc_x': [], \n",
    "    'Acc_y': [], \n",
    "    'Acc_z': [], \n",
    "    'Alt': [], \n",
    "    'State': []\n",
    "}"
   ]
  },
  {
   "cell_type": "code",
   "execution_count": null,
   "metadata": {},
   "outputs": [],
   "source": [
    "filename = r'./SRAD Raw Data.txt'\n",
    "with open(filename, 'r') as raw_file:\n",
    "    content = raw_file.readlines()\n",
    "    flag = True\n",
    "    for line in content:\n",
    "        if(flag):\n",
    "            line = line[:-3]\n",
    "            line = line.replace(';', ',')\n",
    "            words = re.split(',', line)\n",
    "            flag = not flag\n",
    "        else:\n",
    "            line = line[:-3]\n",
    "            words.append(line)\n",
    "            df_dict['Time'].append(float(words[TIME]))\n",
    "            df_dict['Gyro_x'].append(float(words[GYRO_X]))\n",
    "            df_dict['Gyro_y'].append(float(words[GYRO_Y]))\n",
    "            df_dict['Gyro_z'].append(float(words[GYRO_Z]))\n",
    "            df_dict['Acc_x'].append(float(words[ACC_X]))\n",
    "            df_dict['Acc_y'].append(float(words[ACC_Y]))\n",
    "            df_dict['Acc_z'].append(float(words[ACC_Z]))\n",
    "            df_dict['Alt'].append(float(words[ALT]))\n",
    "            df_dict['State'].append((words[STATE]))\n",
    "            flag = not flag"
   ]
  },
  {
   "cell_type": "code",
   "execution_count": null,
   "metadata": {},
   "outputs": [],
   "source": [
    "df = pd.DataFrame(df_dict)"
   ]
  },
  {
   "cell_type": "code",
   "execution_count": null,
   "metadata": {},
   "outputs": [],
   "source": [
    "df2 = df.groupby('Time')\n",
    "df3 = df\n",
    "df3 = df3.set_index('Time')\n",
    "df3 = df3[df3.index >= 7428000.0]\n",
    "df3 = df3[df3.index <= 8500000.0]"
   ]
  },
  {
   "cell_type": "code",
   "execution_count": null,
   "metadata": {},
   "outputs": [],
   "source": [
    "df3.to_pickle(r'C:\\Users\\lchu\\Documents\\UBC Rocket\\MajorTom\\test-can\\df_pickle')"
   ]
  },
  {
   "cell_type": "code",
   "execution_count": null,
   "metadata": {},
   "outputs": [],
   "source": [
    "df3.head()"
   ]
  },
  {
   "cell_type": "code",
   "execution_count": null,
   "metadata": {},
   "outputs": [],
   "source": [
    "df_alt = df3['Alt']"
   ]
  },
  {
   "cell_type": "code",
   "execution_count": null,
   "metadata": {},
   "outputs": [],
   "source": [
    "print(type(df_alt))"
   ]
  },
  {
   "cell_type": "code",
   "execution_count": null,
   "metadata": {},
   "outputs": [],
   "source": [
    "plt.figure(); df_alt.plot();\n",
    "plt.show()"
   ]
  },
  {
   "cell_type": "code",
   "execution_count": null,
   "metadata": {
    "scrolled": true
   },
   "outputs": [],
   "source": [
    "TRUNCATE_LOW = 7428000.0\n",
    "TRUNCATE_HIGH = 8500000.0"
   ]
  },
  {
   "cell_type": "code",
   "execution_count": null,
   "metadata": {},
   "outputs": [],
   "source": [
    "random.seed(hash(2017))"
   ]
  },
  {
   "cell_type": "code",
   "execution_count": null,
   "metadata": {},
   "outputs": [],
   "source": [
    "df_test = df3[df3['Alt'] >= 1]"
   ]
  },
  {
   "cell_type": "markdown",
   "metadata": {},
   "source": [
    "Marks Binary File"
   ]
  },
  {
   "cell_type": "code",
   "execution_count": null,
   "metadata": {},
   "outputs": [],
   "source": [
    "filename_write = r'C:\\Users\\lchu\\Documents\\UBC Rocket\\MajorTom\\test-can\\mock_data.dat'\n",
    "counter = 0\n",
    "with open(filename_write, 'wb') as write_file:\n",
    "    for index, row in df_test.iterrows():\n",
    "        write_file.write(ALT.to_bytes(8, byteorder='little', signed=True))\n",
    "#         write_file.write('\\n')\n",
    "        data = int(gauss(row['Alt'], 1)).to_bytes(8, byteorder='little', signed=True)\n",
    "        write_file.write(data)\n",
    "#         write_file.write(b'\\n')"
   ]
  },
  {
   "cell_type": "markdown",
   "metadata": {},
   "source": [
    "Makes CSV"
   ]
  },
  {
   "cell_type": "code",
   "execution_count": null,
   "metadata": {},
   "outputs": [],
   "source": [
    "filename_write = r'C:\\Users\\lchu\\Documents\\UBC Rocket\\MajorTom\\test-can\\mock_data.csv'\n",
    "with open(filename_write, 'w') as write_file:\n",
    "    for index, row in df_test.iterrows():\n",
    "        write_file.write(ALT)\n",
    "        write_file.write(', ')\n",
    "        data = (gauss(row['Alt'], 1))\n",
    "        write_file.write(data)\n",
    "        write_file.write(', ')\n",
    "        write_file.write(row.index)\n",
    "        write_file.write('\\n')"
   ]
  },
  {
   "cell_type": "code",
   "execution_count": null,
   "metadata": {},
   "outputs": [],
   "source": []
  }
 ],
 "metadata": {
  "kernelspec": {
   "display_name": "Python 3",
   "language": "python",
   "name": "python3"
  },
  "language_info": {
   "codemirror_mode": {
    "name": "ipython",
    "version": 3
   },
   "file_extension": ".py",
   "mimetype": "text/x-python",
   "name": "python",
   "nbconvert_exporter": "python",
   "pygments_lexer": "ipython3",
   "version": "3.6.3"
  }
 },
 "nbformat": 4,
 "nbformat_minor": 2
}
