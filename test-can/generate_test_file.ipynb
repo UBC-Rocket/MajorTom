{
 "cells": [
  {
   "cell_type": "markdown",
   "metadata": {},
   "source": [
    "# This file generates test data for the rocket"
   ]
  },
  {
   "cell_type": "raw",
   "metadata": {},
   "source": [
    "Imports"
   ]
  },
  {
   "cell_type": "code",
   "execution_count": 1,
   "metadata": {
    "collapsed": true
   },
   "outputs": [],
   "source": [
    "import pandas as pd\n",
    "import numpy as np\n",
    "import matplotlib.pyplot as plt\n",
    "import re"
   ]
  },
  {
   "cell_type": "markdown",
   "metadata": {},
   "source": [
    "Declarations"
   ]
  },
  {
   "cell_type": "code",
   "execution_count": 2,
   "metadata": {
    "collapsed": true
   },
   "outputs": [],
   "source": [
    "TIME = 0\n",
    "GYRO_X = 1\n",
    "GYRO_Y = 2\n",
    "GYRO_Z = 3\n",
    "ACC_X = 4\n",
    "ACC_Y = 5\n",
    "ACC_Z = 6\n",
    "ALT = 7\n",
    "STATE = 8"
   ]
  },
  {
   "cell_type": "markdown",
   "metadata": {},
   "source": [
    "Main Section"
   ]
  },
  {
   "cell_type": "markdown",
   "metadata": {
    "collapsed": true
   },
   "source": [
    "Development"
   ]
  },
  {
   "cell_type": "code",
   "execution_count": 3,
   "metadata": {
    "collapsed": false
   },
   "outputs": [],
   "source": [
    "columns_ = ['Time', 'Gyro_x', 'Gyro_y', 'Gyro_z', 'Acc_x', 'Acc_y', 'Acc_z', 'Alt', 'State']\n",
    "df_dict = {\n",
    "    'Time': [],\n",
    "    'Gyro_x': [],\n",
    "    'Gyro_y': [], \n",
    "    'Gyro_z': [], \n",
    "    'Acc_x': [], \n",
    "    'Acc_y': [], \n",
    "    'Acc_z': [], \n",
    "    'Alt': [], \n",
    "    'State': []\n",
    "}"
   ]
  },
  {
   "cell_type": "code",
   "execution_count": 4,
   "metadata": {
    "collapsed": false
   },
   "outputs": [],
   "source": [
    "filename = r'C:\\Users\\lchu\\Documents\\UBC Rocket\\MajorTom\\test-can\\SRAD Raw Data.txt'\n",
    "with open(filename, 'r') as raw_file:\n",
    "    content = raw_file.readlines()\n",
    "    flag = True\n",
    "    for line in content:\n",
    "        if(flag):\n",
    "            line = line[:-3]\n",
    "            line = line.replace(';', ',')\n",
    "            words = re.split(',', line)\n",
    "            flag = not flag\n",
    "        else:\n",
    "            line = line[:-3]\n",
    "            words.append(line)\n",
    "            df_dict['Time'].append(float(words[TIME]))\n",
    "            df_dict['Gyro_x'].append(float(words[GYRO_X]))\n",
    "            df_dict['Gyro_y'].append(float(words[GYRO_Y]))\n",
    "            df_dict['Gyro_z'].append(float(words[GYRO_Z]))\n",
    "            df_dict['Acc_x'].append(float(words[ACC_X]))\n",
    "            df_dict['Acc_y'].append(float(words[ACC_Y]))\n",
    "            df_dict['Acc_z'].append(float(words[ACC_Z]))\n",
    "            df_dict['Alt'].append(float(words[ALT]))\n",
    "            df_dict['State'].append((words[STATE]))\n",
    "            flag = not flag"
   ]
  },
  {
   "cell_type": "code",
   "execution_count": 5,
   "metadata": {
    "collapsed": false
   },
   "outputs": [],
   "source": [
    "df = pd.DataFrame(df_dict)"
   ]
  },
  {
   "cell_type": "code",
   "execution_count": 6,
   "metadata": {
    "collapsed": false
   },
   "outputs": [],
   "source": [
    "df2 = df.groupby('Time')\n",
    "df3 = df\n",
    "df3 = df3.set_index('Time')\n",
    "df3 = df3[df3.index >= 7428000.0]\n",
    "df3 = df3[df3.index <= 8500000.0]"
   ]
  },
  {
   "cell_type": "code",
   "execution_count": 7,
   "metadata": {
    "collapsed": false
   },
   "outputs": [],
   "source": [
    "df3.to_pickle(r'C:\\Users\\lchu\\Documents\\UBC Rocket\\MajorTom\\test-can\\df_pickle')"
   ]
  },
  {
   "cell_type": "code",
   "execution_count": 8,
   "metadata": {
    "collapsed": false
   },
   "outputs": [
    {
     "data": {
      "text/html": [
       "<div>\n",
       "<style scoped>\n",
       "    .dataframe tbody tr th:only-of-type {\n",
       "        vertical-align: middle;\n",
       "    }\n",
       "\n",
       "    .dataframe tbody tr th {\n",
       "        vertical-align: top;\n",
       "    }\n",
       "\n",
       "    .dataframe thead th {\n",
       "        text-align: right;\n",
       "    }\n",
       "</style>\n",
       "<table border=\"1\" class=\"dataframe\">\n",
       "  <thead>\n",
       "    <tr style=\"text-align: right;\">\n",
       "      <th></th>\n",
       "      <th>Acc_x</th>\n",
       "      <th>Acc_y</th>\n",
       "      <th>Acc_z</th>\n",
       "      <th>Alt</th>\n",
       "      <th>Gyro_x</th>\n",
       "      <th>Gyro_y</th>\n",
       "      <th>Gyro_z</th>\n",
       "      <th>State</th>\n",
       "    </tr>\n",
       "    <tr>\n",
       "      <th>Time</th>\n",
       "      <th></th>\n",
       "      <th></th>\n",
       "      <th></th>\n",
       "      <th></th>\n",
       "      <th></th>\n",
       "      <th></th>\n",
       "      <th></th>\n",
       "      <th></th>\n",
       "    </tr>\n",
       "  </thead>\n",
       "  <tbody>\n",
       "    <tr>\n",
       "      <th>7428018.0</th>\n",
       "      <td>0.07</td>\n",
       "      <td>-0.02</td>\n",
       "      <td>1.07</td>\n",
       "      <td>-34.20</td>\n",
       "      <td>-2.32</td>\n",
       "      <td>-1.53</td>\n",
       "      <td>-0.79</td>\n",
       "      <td>0</td>\n",
       "    </tr>\n",
       "    <tr>\n",
       "      <th>7428073.0</th>\n",
       "      <td>0.07</td>\n",
       "      <td>0.00</td>\n",
       "      <td>1.06</td>\n",
       "      <td>-32.64</td>\n",
       "      <td>-2.44</td>\n",
       "      <td>-0.79</td>\n",
       "      <td>-0.67</td>\n",
       "      <td>0</td>\n",
       "    </tr>\n",
       "    <tr>\n",
       "      <th>7428129.0</th>\n",
       "      <td>0.06</td>\n",
       "      <td>0.02</td>\n",
       "      <td>1.03</td>\n",
       "      <td>-33.45</td>\n",
       "      <td>-2.32</td>\n",
       "      <td>-1.22</td>\n",
       "      <td>-0.92</td>\n",
       "      <td>0</td>\n",
       "    </tr>\n",
       "    <tr>\n",
       "      <th>7428184.0</th>\n",
       "      <td>0.05</td>\n",
       "      <td>-0.07</td>\n",
       "      <td>1.05</td>\n",
       "      <td>-33.83</td>\n",
       "      <td>-2.14</td>\n",
       "      <td>-1.10</td>\n",
       "      <td>-0.85</td>\n",
       "      <td>0</td>\n",
       "    </tr>\n",
       "    <tr>\n",
       "      <th>7428239.0</th>\n",
       "      <td>0.03</td>\n",
       "      <td>-0.06</td>\n",
       "      <td>1.06</td>\n",
       "      <td>-34.76</td>\n",
       "      <td>-2.75</td>\n",
       "      <td>-0.31</td>\n",
       "      <td>0.18</td>\n",
       "      <td>0</td>\n",
       "    </tr>\n",
       "  </tbody>\n",
       "</table>\n",
       "</div>"
      ],
      "text/plain": [
       "           Acc_x  Acc_y  Acc_z    Alt  Gyro_x  Gyro_y  Gyro_z State\n",
       "Time                                                               \n",
       "7428018.0   0.07  -0.02   1.07 -34.20   -2.32   -1.53   -0.79     0\n",
       "7428073.0   0.07   0.00   1.06 -32.64   -2.44   -0.79   -0.67     0\n",
       "7428129.0   0.06   0.02   1.03 -33.45   -2.32   -1.22   -0.92     0\n",
       "7428184.0   0.05  -0.07   1.05 -33.83   -2.14   -1.10   -0.85     0\n",
       "7428239.0   0.03  -0.06   1.06 -34.76   -2.75   -0.31    0.18     0"
      ]
     },
     "execution_count": 8,
     "metadata": {},
     "output_type": "execute_result"
    }
   ],
   "source": [
    "df3.head()"
   ]
  },
  {
   "cell_type": "code",
   "execution_count": 9,
   "metadata": {
    "collapsed": true
   },
   "outputs": [],
   "source": [
    "df_alt = df3['Alt']"
   ]
  },
  {
   "cell_type": "code",
   "execution_count": 10,
   "metadata": {
    "collapsed": false
   },
   "outputs": [
    {
     "name": "stdout",
     "output_type": "stream",
     "text": [
      "<class 'pandas.core.series.Series'>\n"
     ]
    }
   ],
   "source": [
    "print(type(df_alt))"
   ]
  },
  {
   "cell_type": "code",
   "execution_count": 11,
   "metadata": {
    "collapsed": false
   },
   "outputs": [
    {
     "data": {
      "image/png": "[encoded data removed]",
      "text/plain": [
       "<matplotlib.figure.Figure at 0x1b8fc299ba8>"
      ]
     },
     "metadata": {},
     "output_type": "display_data"
    }
   ],
   "source": [
    "plt.figure(); df_alt.plot();\n",
    "plt.show()"
   ]
  },
  {
   "cell_type": "code",
   "execution_count": 12,
   "metadata": {
    "collapsed": false,
    "scrolled": true
   },
   "outputs": [],
   "source": [
    "TRUNCATE_LOW = 7428000.0\n",
    "TRUNCATE_HIGH = 8500000.0"
   ]
  },
  {
   "cell_type": "code",
   "execution_count": 13,
   "metadata": {
    "collapsed": false
   },
   "outputs": [],
   "source": [
    "from random import gauss"
   ]
  },
  {
   "cell_type": "code",
   "execution_count": 14,
   "metadata": {
    "collapsed": false
   },
   "outputs": [
    {
     "data": {
      "text/plain": [
       "1.428149331393275"
      ]
     },
     "execution_count": 14,
     "metadata": {},
     "output_type": "execute_result"
    }
   ],
   "source": [
    "gauss(1,1)"
   ]
  },
  {
   "cell_type": "code",
   "execution_count": 15,
   "metadata": {
    "collapsed": true
   },
   "outputs": [],
   "source": [
    "df_test = df3[df3['Alt'] >= 1]"
   ]
  },
  {
   "cell_type": "markdown",
   "metadata": {},
   "source": [
    "Marks Binary File"
   ]
  },
  {
   "cell_type": "code",
   "execution_count": 27,
   "metadata": {
    "collapsed": false
   },
   "outputs": [],
   "source": [
    "filename_write = r'C:\\Users\\lchu\\Documents\\UBC Rocket\\MajorTom\\test-can\\mock_data.dat'\n",
    "counter = 0\n",
    "with open(filename_write, 'wb') as write_file:\n",
    "    for index, row in df_test.iterrows():\n",
    "        write_file.write(ALT.to_bytes(8, byteorder='little', signed=True))\n",
    "#         write_file.write('\\n')\n",
    "        data = int(gauss(row['Alt'], 1)).to_bytes(8, byteorder='little', signed=True)\n",
    "        write_file.write(data)\n",
    "#         write_file.write(b'\\n')"
   ]
  },
  {
   "cell_type": "markdown",
   "metadata": {},
   "source": [
    "Makes CSV"
   ]
  },
  {
   "cell_type": "code",
   "execution_count": 18,
   "metadata": {
    "collapsed": false
   },
   "outputs": [],
   "source": [
    "filename_write = r'C:\\Users\\lchu\\Documents\\UBC Rocket\\MajorTom\\test-can\\mock_data.csv'\n",
    "with open(filename_write, 'w') as write_file:\n",
    "    for index, row in df_test.iterrows():\n",
    "        write_file.write(ALT)\n",
    "        write_file.write(', ')\n",
    "        data = (gauss(row['Alt'], 1))\n",
    "        write_file.write(data)\n",
    "        write_file.write(', ')\n",
    "        write_file.write(row.index)\n",
    "        write_file.write('\\n')"
   ]
  },
  {
   "cell_type": "code",
   "execution_count": null,
   "metadata": {
    "collapsed": true
   },
   "outputs": [],
   "source": []
  }
 ],
 "metadata": {
  "kernelspec": {
   "display_name": "Python 3",
   "language": "python",
   "name": "python3"
  },
  "language_info": {
   "codemirror_mode": {
    "name": "ipython",
    "version": 3
   },
   "file_extension": ".py",
   "mimetype": "text/x-python",
   "name": "python",
   "nbconvert_exporter": "python",
   "pygments_lexer": "ipython3",
   "version": "3.6.0"
  }
 },
 "nbformat": 4,
 "nbformat_minor": 2
}
